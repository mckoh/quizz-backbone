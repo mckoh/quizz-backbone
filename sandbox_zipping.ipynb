{
 "cells": [
  {
   "cell_type": "code",
   "execution_count": 52,
   "metadata": {},
   "outputs": [],
   "source": [
    "from pandas import read_excel"
   ]
  },
  {
   "cell_type": "code",
   "execution_count": 53,
   "metadata": {},
   "outputs": [],
   "source": [
    "responses = read_excel(\"exports/test.xls\")"
   ]
  },
  {
   "cell_type": "code",
   "execution_count": 54,
   "metadata": {},
   "outputs": [
    {
     "data": {
      "text/html": [
       "<div>\n",
       "<style scoped>\n",
       "    .dataframe tbody tr th:only-of-type {\n",
       "        vertical-align: middle;\n",
       "    }\n",
       "\n",
       "    .dataframe tbody tr th {\n",
       "        vertical-align: top;\n",
       "    }\n",
       "\n",
       "    .dataframe thead th {\n",
       "        text-align: right;\n",
       "    }\n",
       "</style>\n",
       "<table border=\"1\" class=\"dataframe\">\n",
       "  <thead>\n",
       "    <tr style=\"text-align: right;\">\n",
       "      <th></th>\n",
       "      <th>Last Name</th>\n",
       "      <th>First Name</th>\n",
       "      <th>User Name</th>\n",
       "      <th>Order of Submission (1=first)</th>\n",
       "      <th>Start time</th>\n",
       "      <th>Submit time</th>\n",
       "      <th>Final Score</th>\n",
       "      <th>Grader's comments</th>\n",
       "      <th>Part 1, Question 1, Response</th>\n",
       "      <th>Part 1, Question 1, Grader's comments</th>\n",
       "      <th>Part 1, Question 2, Response</th>\n",
       "      <th>Part 1, Question 2, Grader's comments</th>\n",
       "      <th>Part 1, Question 3, Response</th>\n",
       "      <th>Part 1, Question 3, Grader's comments</th>\n",
       "      <th>Part 1, Question 4, Response</th>\n",
       "      <th>Part 1, Question 4, Grader's comments</th>\n",
       "      <th>Part 1, Question 5, Response</th>\n",
       "      <th>Part 1, Question 5, Grader's comments</th>\n",
       "      <th>Part 1, Question 6, Response</th>\n",
       "      <th>Part 1, Question 6, Grader's comments</th>\n",
       "      <th>Part 1, Question 7, Response</th>\n",
       "      <th>Part 1, Question 7, Grader's comments</th>\n",
       "    </tr>\n",
       "  </thead>\n",
       "  <tbody>\n",
       "    <tr>\n",
       "      <th>0</th>\n",
       "      <td>Bracco</td>\n",
       "      <td>Max</td>\n",
       "      <td>bm8077</td>\n",
       "      <td>1</td>\n",
       "      <td>2025-06-06 16:47:32</td>\n",
       "      <td>2025-06-06 21:34:32</td>\n",
       "      <td>12.0</td>\n",
       "      <td>NaN</td>\n",
       "      <td>Die Datenwertschöpfungskette (auch Data Value ...</td>\n",
       "      <td>NaN</td>\n",
       "      <td>Vergangenheit (Deskriptiv/Diagnostisch):\\n\\nFr...</td>\n",
       "      <td>NaN</td>\n",
       "      <td>Chancen:\\n\\nFrühzeitige Entscheidungen: Trends...</td>\n",
       "      <td>NaN</td>\n",
       "      <td>Modelle verwenden Features um eine Zielgröße (...</td>\n",
       "      <td>NaN</td>\n",
       "      <td>Deterministisch arbeitende Algorithmen im Kont...</td>\n",
       "      <td>NaN</td>\n",
       "      <td>KNN ist ein Algorithmus aus dem Bereich des Su...</td>\n",
       "      <td>NaN</td>\n",
       "      <td>Random Forest ist ein Beispiel für einen Algor...</td>\n",
       "      <td>NaN</td>\n",
       "    </tr>\n",
       "    <tr>\n",
       "      <th>1</th>\n",
       "      <td>Brandtner</td>\n",
       "      <td>Selina</td>\n",
       "      <td>bs1539</td>\n",
       "      <td>1</td>\n",
       "      <td>2025-06-10 21:17:12</td>\n",
       "      <td>2025-06-10 21:51:32</td>\n",
       "      <td>10.5</td>\n",
       "      <td>NaN</td>\n",
       "      <td>DIe Datenwertschöpfungskette setzt sich zusamm...</td>\n",
       "      <td>NaN</td>\n",
       "      <td>Vergangenheit: Was ist passiert? Uns liegen al...</td>\n",
       "      <td>NaN</td>\n",
       "      <td>Chancen: 1. Man kann Prognosen über die Zukunf...</td>\n",
       "      <td>NaN</td>\n",
       "      <td>Modelle verwenden Features um eine Zielgröße (...</td>\n",
       "      <td>NaN</td>\n",
       "      <td>Deterministisch arbeitende Algorithmen im Kont...</td>\n",
       "      <td>NaN</td>\n",
       "      <td>KNN ist ein Algorithmus aus dem Bereich des Su...</td>\n",
       "      <td>NaN</td>\n",
       "      <td>Random Forest ist ein Beispiel für einen Algor...</td>\n",
       "      <td>NaN</td>\n",
       "    </tr>\n",
       "  </tbody>\n",
       "</table>\n",
       "</div>"
      ],
      "text/plain": [
       "   Last Name  ... Part 1, Question 7, Grader's comments\n",
       "0     Bracco  ...                                   NaN\n",
       "1  Brandtner  ...                                   NaN\n",
       "\n",
       "[2 rows x 22 columns]"
      ]
     },
     "execution_count": 54,
     "metadata": {},
     "output_type": "execute_result"
    }
   ],
   "source": [
    "responses.head(2)"
   ]
  },
  {
   "cell_type": "code",
   "execution_count": null,
   "metadata": {},
   "outputs": [
    {
     "name": "stdout",
     "output_type": "stream",
     "text": [
      "---\n",
      "Die Datenwertschöpfungskette (auch Data Value Chain genannt) beschreibt den Prozess, wie aus Rohdaten durch verschiedene Verarbeitungsschritte nutzbringende Informationen oder Erkenntnisse entstehen. Ziel ist es, aus Daten echten Mehrwert zu schaffen\n",
      "\n",
      "Datenerfassung\n",
      "Datenübertragung\n",
      "Datenaufbereitung\n",
      "Datenanalyse\n",
      "Datenbereitstellung\n",
      "Datennutzung\n",
      "---\n",
      "Vergangenheit (Deskriptiv/Diagnostisch):\n",
      "\n",
      "Fragen: Was ist passiert? Warum?\n",
      "Chancen: Muster erkennen, Prozesse verstehen\n",
      "Risiken: Korrelation ≠ Kausalität, Datenlücken\n",
      "Gegenwart (Monitoring):\n",
      "\n",
      "Fragen: Was passiert jetzt? Gibt es Anomalien?\n",
      "Chancen: Echtzeitreaktionen, Frühwarnsysteme\n",
      "Risiken: Fehlalarme, technische Komplexität\n",
      "Zukunft (Prädiktiv/Präskriptiv):\n",
      "\n",
      "Fragen: Was wird passieren? Was ist die beste Entscheidung?\n",
      "Chancen: Prognosen, Personalisierung, strategische Planung\n",
      "Risiken: Unsicherheit, Modellfehler, Überschätzung der Vorhersagekraft\n",
      "---\n",
      "Chancen:\n",
      "\n",
      "Frühzeitige Entscheidungen: Trends und Entwicklungen können proaktiv erkannt und genutzt werden.\n",
      "Effizienzsteigerung: Ressourcen (z. B. Marketingbudgets, Lagerbestände) können gezielt eingesetzt werden.\n",
      "Risiken:\n",
      "\n",
      "Fehlprognosen: Ungenaue Modelle können zu falschen Entscheidungen und wirtschaftlichen Verlusten führen.\n",
      "Überanpassung (Overfitting): Modelle funktionieren gut auf Trainingsdaten, aber schlecht in der Praxis.\n",
      "---\n",
      "Modelle verwenden Features um eine Zielgröße (Target) zu schätzen.|Targets können stetig oder diskret sein.\n",
      "---\n",
      "Deterministisch arbeitende Algorithmen im Kontext von Business Intelligence werden als symbolische (symbolic) Algorithmen bezeichnet.|Symbolische (symbolic) Algorithmen eignen sich besonders gut für die Verwenden in Bereichen, in denen Nachvollziehbarkeit eine große Rolle spielt.\n",
      "---\n",
      "KNN ist ein Algorithmus aus dem Bereich des Supervised Learning.|KNN ist ein Algorithmus aus dem Bereich der Klassifikation.|KNN bestimmt die Klasse eines neuen Datenpunktes durch Vergleich mit seinen unmittelbaren (nearest) Nachbarn.\n",
      "---\n",
      "Random Forest ist ein Beispiel für einen Algorithmus aus dem Bereich des Ensemble Learning.|Random Forests können sowohl zum Supervised, als auch zum Unsupervised Learning verwendet werden.\n"
     ]
    }
   ],
   "source": [
    "for index, student in responses.iterrows():\n",
    "    for column in range(8, len(student), 2):\n",
    "        answer = student.iloc[column]\n",
    "    break"
   ]
  }
 ],
 "metadata": {
  "kernelspec": {
   "display_name": ".venv",
   "language": "python",
   "name": "python3"
  },
  "language_info": {
   "codemirror_mode": {
    "name": "ipython",
    "version": 3
   },
   "file_extension": ".py",
   "mimetype": "text/x-python",
   "name": "python",
   "nbconvert_exporter": "python",
   "pygments_lexer": "ipython3",
   "version": "3.13.0"
  }
 },
 "nbformat": 4,
 "nbformat_minor": 2
}
